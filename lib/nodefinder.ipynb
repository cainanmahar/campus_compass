{
 "cells": [
  {
   "cell_type": "code",
   "execution_count": 2,
   "metadata": {},
   "outputs": [
    {
     "name": "stdout",
     "output_type": "stream",
     "text": [
      "id          159942.000000000000000\n",
      "latitude        30.714689982246199\n",
      "longitude      -95.546575072837996\n",
      "distance         0.230829845707650\n",
      "Name: 20051, dtype: float64\n"
     ]
    }
   ],
   "source": [
    "import pandas as pd\n",
    "import json\n",
    "from geopy.distance import geodesic\n",
    "\n",
    "\n",
    "with open('C:/Users/peter/source/repos/campus_compass/graph.json') as file:\n",
    "    data = json.load(file)\n",
    "\n",
    "\n",
    "df = pd.json_normalize(data)\n",
    "\n",
    "# extract 'nodes' data into a separate DataFrame\n",
    "nodes_df = pd.json_normalize(df['nodes'].explode())\n",
    "\n",
    "# setting display options for float precision\n",
    "pd.set_option('display.float_format', '{:.15f}'.format)\n",
    "\n",
    "# target coordinates we want to find the closest real node to\n",
    "target_coords = (30.714690759, -95.546572837)\n",
    "\n",
    "# calculating geodesic distance from that node\n",
    "nodes_df['distance'] = nodes_df.apply(lambda row: geodesic(target_coords, (row['latitude'], row['longitude'])).meters, axis=1)\n",
    "\n",
    "# finding the row with the smallest distance\n",
    "closest_location = nodes_df.loc[nodes_df['distance'].idxmin()]\n",
    "\n",
    "print(closest_location)"
   ]
  }
 ],
 "metadata": {
  "kernelspec": {
   "display_name": "Python 3",
   "language": "python",
   "name": "python3"
  },
  "language_info": {
   "codemirror_mode": {
    "name": "ipython",
    "version": 3
   },
   "file_extension": ".py",
   "mimetype": "text/x-python",
   "name": "python",
   "nbconvert_exporter": "python",
   "pygments_lexer": "ipython3",
   "version": "3.11.5"
  }
 },
 "nbformat": 4,
 "nbformat_minor": 2
}
